{
 "cells": [
  {
   "cell_type": "markdown",
   "id": "533f9929",
   "metadata": {},
   "source": [
    "# DATA TYPES"
   ]
  },
  {
   "cell_type": "markdown",
   "id": "22509d01",
   "metadata": {},
   "source": [
    "1. STRINGS ----->      \"Theresa\", \"56\",\n",
    "\n",
    "2. INTEGAR ----->      78,89\n",
    "\n",
    "3. FLOAT   ----->      56.8, 89.6\n",
    "\n",
    "4. BOOLEAN ----->      TRUE, FALSE\n",
    "\n",
    "5. NULL   ------>      NONE   "
   ]
  },
  {
   "cell_type": "markdown",
   "id": "34535b0c",
   "metadata": {},
   "source": [
    "## DATA STRUCTURES"
   ]
  },
  {
   "cell_type": "markdown",
   "id": "19b4c472",
   "metadata": {},
   "source": [
    "1. ARRAY        -----> [6,89,6,54]\n",
    "\n",
    "2. STACK        ----->  A STACK OF PLATE, A STACK OF BLOCK\n",
    "\n",
    "3. TUPLE        -----> (5, 7, 8, 3)\n",
    "\n",
    "4. DICTIONARY   ----->{\"NAME\": \"GEORGE\", \"AGE\": 56, \"GENDER\": \"MALE\"}\n",
    " "
   ]
  }
 ],
 "metadata": {
  "kernelspec": {
   "display_name": "Python 3 (ipykernel)",
   "language": "python",
   "name": "python3"
  },
  "language_info": {
   "codemirror_mode": {
    "name": "ipython",
    "version": 3
   },
   "file_extension": ".py",
   "mimetype": "text/x-python",
   "name": "python",
   "nbconvert_exporter": "python",
   "pygments_lexer": "ipython3",
   "version": "3.11.4"
  }
 },
 "nbformat": 4,
 "nbformat_minor": 5
}
