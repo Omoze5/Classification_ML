{
 "cells": [
  {
   "cell_type": "markdown",
   "id": "7e358cf4",
   "metadata": {},
   "source": [
    "## Finding the best model and hyper parameters for sklearn digits data classification"
   ]
  },
  {
   "cell_type": "code",
   "execution_count": 2,
   "id": "4d5b5245",
   "metadata": {},
   "outputs": [],
   "source": [
    "from sklearn.datasets import load_digits"
   ]
  },
  {
   "cell_type": "code",
   "execution_count": 3,
   "id": "31bf2502",
   "metadata": {},
   "outputs": [],
   "source": [
    "data = load_digits()\n"
   ]
  },
  {
   "cell_type": "code",
   "execution_count": 4,
   "id": "9fa78b30",
   "metadata": {},
   "outputs": [],
   "source": [
    "from sklearn import svm\n",
    "from sklearn.ensemble import RandomForestClassifier\n",
    "from sklearn.linear_model import LogisticRegression\n",
    "from sklearn.naive_bayes import GaussianNB\n",
    "from sklearn.naive_bayes import MultinomialNB\n",
    "from sklearn.tree import DecisionTreeClassifier"
   ]
  },
  {
   "cell_type": "code",
   "execution_count": 5,
   "id": "b39ac7a7",
   "metadata": {},
   "outputs": [],
   "source": [
    "import numpy as np\n",
    "n_estimators = [int(x) for x in np.linspace(start= 200, stop= 2000, num=10)]\n",
    "max_features = [\"auto\", \"sqrt\", \"log2\"]\n",
    "max_depth = [int(x) for x in np.linspace(10, 1000,10)]\n",
    "min_samples_split = [2,5,10,14]\n",
    "min_samples_leaf = [1,2,4,6,8]\n",
    "\n",
    "\n",
    "random_grid = {\"n_estimators\":n_estimators, \n",
    "               \"max_depth\":max_depth, \n",
    "               \"min_samples_split\":min_samples_split, \n",
    "               \"min_samples_leaf\":min_samples_leaf   }"
   ]
  },
  {
   "cell_type": "code",
   "execution_count": 6,
   "id": "c28c1990",
   "metadata": {},
   "outputs": [],
   "source": [
    "model_param = {\n",
    "    'svm':{'model': svm.SVC(gamma= 'auto'),\n",
    "            'params': {'kernel': ['linear', 'rbf', 'poly', 'sigmoid'],\n",
    "                       'C': [1,10],\n",
    "                       'class_weight': ['balanced']\n",
    "                \n",
    "            }},\n",
    "    'random_forest': {'model': RandomForestClassifier(),\n",
    "                      'params': random_grid\n",
    "        \n",
    "    },\n",
    "    'logistics_regression': {'model':LogisticRegression(),\n",
    "                             'params':{'fit_intercept': [True, False],\n",
    "                                        'solver': ['lbfgs', 'liblinear']\n",
    "                                         \n",
    "                                 \n",
    "                             }\n",
    "        \n",
    "    },\n",
    "    'Gaussian': {'model': GaussianNB(),\n",
    "                 'params': {'var_smoothing':[0, 1, 2, 3, 5, 9]\n",
    "                     \n",
    "                 }\n",
    "        \n",
    "    },\n",
    "    'MultinomialNB': {'model': MultinomialNB(),\n",
    "                      'params':{'alpha':[1.0, 2.0, 3.0],\n",
    "                                'force_alpha': [True, False]\n",
    "                          \n",
    "                      }\n",
    "        \n",
    "    },\n",
    "    'Decision_Tree': {'model':DecisionTreeClassifier(),\n",
    "                      'params': {'criterion': ['gini', 'entropy', 'log_loss'],\n",
    "                                 'splitter': ['best', 'random'],\n",
    "                          \n",
    "                      }\n",
    "                     }\n",
    "}"
   ]
  },
  {
   "cell_type": "code",
   "execution_count": 7,
   "id": "434dd925",
   "metadata": {},
   "outputs": [],
   "source": [
    "from sklearn.model_selection import GridSearchCV, RandomizedSearchCV"
   ]
  },
  {
   "cell_type": "code",
   "execution_count": 8,
   "id": "8eda1666",
   "metadata": {},
   "outputs": [
    {
     "name": "stdout",
     "output_type": "stream",
     "text": [
      "Fitting 5 folds for each of 4 candidates, totalling 20 fits\n",
      "Fitting 5 folds for each of 4 candidates, totalling 20 fits\n",
      "Fitting 5 folds for each of 4 candidates, totalling 20 fits\n",
      "Fitting 5 folds for each of 4 candidates, totalling 20 fits\n",
      "Fitting 5 folds for each of 4 candidates, totalling 20 fits\n",
      "Fitting 5 folds for each of 4 candidates, totalling 20 fits\n"
     ]
    },
    {
     "data": {
      "text/plain": [
       "[{'model': 'svm',\n",
       "  'best_score': 0.96884246363355,\n",
       "  'best_param': {'kernel': 'poly', 'class_weight': 'balanced', 'C': 10}},\n",
       " {'model': 'random_forest',\n",
       "  'best_score': 0.9404781801299908,\n",
       "  'best_param': {'n_estimators': 600,\n",
       "   'min_samples_split': 2,\n",
       "   'min_samples_leaf': 1,\n",
       "   'max_depth': 340}},\n",
       " {'model': 'logistics_regression',\n",
       "  'best_score': 0.9221138966264315,\n",
       "  'best_param': {'solver': 'liblinear', 'fit_intercept': True}},\n",
       " {'model': 'Gaussian',\n",
       "  'best_score': 0.8742355307954194,\n",
       "  'best_param': {'var_smoothing': 2}},\n",
       " {'model': 'MultinomialNB',\n",
       "  'best_score': 0.8720210461157537,\n",
       "  'best_param': {'force_alpha': False, 'alpha': 3.0}},\n",
       " {'model': 'Decision_Tree',\n",
       "  'best_score': 0.8063556174558959,\n",
       "  'best_param': {'splitter': 'best', 'criterion': 'entropy'}}]"
      ]
     },
     "execution_count": 8,
     "metadata": {},
     "output_type": "execute_result"
    }
   ],
   "source": [
    "scores = []\n",
    "\n",
    "for model_name, np in model_param.items():\n",
    "    clf = RandomizedSearchCV(np['model'], np['params'], n_iter= 4, cv=5, verbose=2, n_jobs=-1)\n",
    "    clf.fit(data.data, data.target)\n",
    "    scores.append({\n",
    "        'model': model_name,\n",
    "        'best_score': clf.best_score_,\n",
    "        'best_param': clf.best_params_\n",
    "    })\n",
    "    \n",
    "scores\n",
    "    "
   ]
  },
  {
   "cell_type": "code",
   "execution_count": 9,
   "id": "aaf4d361",
   "metadata": {},
   "outputs": [
    {
     "name": "stdout",
     "output_type": "stream",
     "text": [
      "DecisionTreeClassifier(criterion='entropy')\n"
     ]
    }
   ],
   "source": [
    "print(clf.best_estimator_)"
   ]
  },
  {
   "cell_type": "code",
   "execution_count": null,
   "id": "02acaf0a",
   "metadata": {},
   "outputs": [],
   "source": [
    "scores = []\n",
    "\n",
    "for model_name, np in model_param.items():\n",
    "    clf = GridSearchCV(np['model'], np['params'],cv=2, return_train_score = False)\n",
    "    clf.fit(data.data, data.target)\n",
    "    scores.append({\n",
    "        'model': model_name,\n",
    "        'best_score': clf.best_score_,\n",
    "        'best_param': clf.best_params_\n",
    "    })\n",
    "    \n",
    "scores"
   ]
  },
  {
   "cell_type": "code",
   "execution_count": null,
   "id": "21ed8ab6",
   "metadata": {},
   "outputs": [],
   "source": []
  }
 ],
 "metadata": {
  "kernelspec": {
   "display_name": "Python 3 (ipykernel)",
   "language": "python",
   "name": "python3"
  },
  "language_info": {
   "codemirror_mode": {
    "name": "ipython",
    "version": 3
   },
   "file_extension": ".py",
   "mimetype": "text/x-python",
   "name": "python",
   "nbconvert_exporter": "python",
   "pygments_lexer": "ipython3",
   "version": "3.11.4"
  }
 },
 "nbformat": 4,
 "nbformat_minor": 5
}
